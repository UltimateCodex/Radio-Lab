{
 "cells": [
  {
   "cell_type": "code",
   "execution_count": null,
   "metadata": {
    "collapsed": true
   },
   "outputs": [],
   "source": [
    "import numpy as np\n",
    "import matplotlib as plt\n",
    "import argparse\n",
    "\n",
    "parser = argparse.ArgumentParser(description='Get files to FFT')\n",
    "\n",
    "parser.add_argument('-data_file', type=str, help='file to be FFTed')\n",
    "parser.add_argument('-N', type=int, help='divisor used for sample frequency')\n",
    "parser.add_argument('-dual', type=bool, help='dual mode or nah')\n",
    "parser.add_argument('-volt_range', type=int, help='maximum in voltage range')\n",
    "\n",
    "args = parser.parse_args()\n",
    "N = parser.N\n",
    "dual = parser.dual\n",
    "data_taken = args.data_file\n",
    "\n",
    "sample_size = len(data_taken)\n",
    "\n",
    "if dual:\n",
    "    dual_imag = np.load(data_taken)[sample_size/2:]\n",
    "\tdual_real = np.load(data_taken)[:sample_size/2]\n",
    "        data = np.zeros((sample_size), dtype = np.complex)\n",
    "    for i in xrange(N):\n",
    "        data[i] = np.complex(dual_real[i], dual_imag[i])\n",
    " else:\n",
    "\tdata = np.load(data_taken)\n",
    "\n",
    "v_samp = 62.5e6/N\n",
    "\n",
    "def scaleToReal(analog_values, volt_range = [-1, 1]):\n",
    "    type_info = np.iinfo(np.int16)\n",
    "    \n",
    "    x1 = volt_range[0]\n",
    "    x2 = volt_range[1]\n",
    "    \n",
    "    a1 = type_info.min\n",
    "    a2 = type_info.max\n",
    "\n",
    "    real_values = []\n",
    "    real2_values = []\n",
    "    for i in analog_values:\n",
    "        real_values.append(float(x2 - x1)*float(i - a1)/float(a2 - a1) + x1)\n",
    "    return np.asarray(real_values)\n",
    " \n",
    "\n",
    "def getPowerSpectra(input_voltage):\n",
    "    return np.abs(getFFT(input_voltage))**2\n",
    "\n",
    "def getFFT(input_voltage):\n",
    "    fourier = np.fft.fft(scaleToReal(input_voltage))\n",
    "    freqs = np.fft.fftfreq(len(fourier), 1/(v_samp))/1e6\n",
    "    return fourier, freqs\n",
    "\n"
   ]
  },
  {
   "cell_type": "code",
   "execution_count": null,
   "metadata": {
    "collapsed": true
   },
   "outputs": [],
   "source": [
    "fourier, freqs = getFFT(data)\n",
    "\n",
    "plt.plot(np.fft.fftshift(freqs), np.fft.fftshift(fourier))\n",
    "plt.xlabel(\"Frequency (MHz)\", fontsize = 20)\n",
    "plt.ylabel(\"$(volt-second)$\", fontsize = 20)\n",
    "plt.show()"
   ]
  }
 ],
 "metadata": {
  "kernelspec": {
   "display_name": "Python [conda env:py27]",
   "language": "python",
   "name": "conda-env-py27-py"
  },
  "language_info": {
   "codemirror_mode": {
    "name": "ipython",
    "version": 2
   },
   "file_extension": ".py",
   "mimetype": "text/x-python",
   "name": "python",
   "nbconvert_exporter": "python",
   "pygments_lexer": "ipython2",
   "version": "2.7.13"
  }
 },
 "nbformat": 4,
 "nbformat_minor": 2
}
