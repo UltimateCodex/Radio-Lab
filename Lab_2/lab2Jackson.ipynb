{
 "cells": [
  {
   "cell_type": "code",
   "execution_count": 32,
   "metadata": {
    "collapsed": false
   },
   "outputs": [],
   "source": [
    "import ugradio\n",
    "import numpy as np\n",
    "import matplotlib.pylab as pl\n",
    "%matplotlib inline\n",
    "\n",
    "def scaleToReal(analog_values, volt_range=[-1, 1]):\n",
    "    type_info = np.iinfo(np.int16)\n",
    "\n",
    "    x1 = volt_range[0]\n",
    "    x2 = volt_range[1]\n",
    "\n",
    "    a1 = type_info.min\n",
    "    a2 = type_info.max\n",
    "\n",
    "    real_values = []\n",
    "    real2_values = []\n",
    "    for i in analog_values:\n",
    "        real_values.append(float(x2 - x1) * float(i - a1) / float(a2 - a1) + x1)\n",
    "    return np.asarray(real_values)\n",
    "\n",
    "def plotPower(filename, xlabel=\"Frequency (MHz)\", ylabel=\"Power (V$\\cdot$s)\", N=1, max_volt=.1):\n",
    "    v_samp = 62.5/N\n",
    "    arr = np.load(filename)\n",
    "    print arr\n",
    "    #arr = scaleToReal(arr, [-.1, .1])\n",
    "    dual_imag = arr[len(arr)/2:]\n",
    "    dual_real = arr[:len(arr)/2]\n",
    "    complex_arr = dual_real + np.multiply(1j, dual_imag)\n",
    "    FT = np.fft.fft(complex_arr)\n",
    "    freqs = np.fft.fftfreq(len(FT), 1/v_samp)\n",
    "    power = np.abs(FT)**2\n",
    "    #freqs, FT = ugradio.dft.dft(complex_arr[:4096], vsamp=4)\n",
    "    #power = np.abs(FT)**2\n",
    "    pl.plot(freqs, power)\n",
    "    pl.xlabel(xlabel, fontsize=14)\n",
    "    pl.ylabel(ylabel, fontsize=14)\n",
    "    pl.xlim(-2, 2)"
   ]
  },
  {
   "cell_type": "code",
   "execution_count": 45,
   "metadata": {
    "collapsed": false
   },
   "outputs": [
    {
     "data": {
      "text/plain": [
       "(array([  3.00000000e+00,   2.60000000e+01,   6.30000000e+01,\n",
       "          4.83000000e+02,   6.91000000e+02,   6.40800000e+03,\n",
       "          1.99770000e+04,   1.89580000e+04,   7.68730000e+04,\n",
       "          4.65810000e+04,   1.11966000e+05,   1.45907000e+05,\n",
       "          6.41570000e+04,   1.25657000e+05,   6.08500000e+04,\n",
       "          1.36137000e+05,   1.17379000e+05,   8.13000000e+04,\n",
       "          1.27121000e+05,   6.48560000e+04,   1.45385000e+05,\n",
       "          1.06970000e+05,   4.31570000e+04,   6.57100000e+04,\n",
       "          1.45590000e+04,   1.40240000e+04,   4.07100000e+03,\n",
       "          4.23000000e+02,   2.60000000e+02,   2.70000000e+01,\n",
       "          1.80000000e+01,   3.00000000e+00]),\n",
       " array([-6144., -5736., -5328., -4920., -4512., -4104., -3696., -3288.,\n",
       "        -2880., -2472., -2064., -1656., -1248.,  -840.,  -432.,   -24.,\n",
       "          384.,   792.,  1200.,  1608.,  2016.,  2424.,  2832.,  3240.,\n",
       "         3648.,  4056.,  4464.,  4872.,  5280.,  5688.,  6096.,  6504.,\n",
       "         6912.]),\n",
       " <a list of 32 Patch objects>)"
      ]
     },
     "execution_count": 45,
     "metadata": {},
     "output_type": "execute_result"
    },
    {
     "data": {
      "image/png": "[encoded data removed]",
      "text/plain": [
       "<matplotlib.figure.Figure at 0x7ff4e7142bd0>"
      ]
     },
     "metadata": {},
     "output_type": "display_data"
    }
   ],
   "source": [
    "filename = \"noisy_data_1_50mV.npy\"\n",
    "filename2 = \"50_block_50mV.npy\"\n",
    "arr = np.load(filename2)\n",
    "pl.hist(arr, bins = 32, color = \"green\", normed=False)\n"
   ]
  },
  {
   "cell_type": "code",
   "execution_count": 33,
   "metadata": {
    "collapsed": false
   },
   "outputs": [
    {
     "name": "stdout",
     "output_type": "stream",
     "text": [
      "[ 256  256    0 ..., -512  256    0]\n"
     ]
    },
    {
     "data": {
      "image/png": "[encoded data removed]",
      "text/plain": [
       "<matplotlib.figure.Figure at 0x7ff4e7a5b110>"
      ]
     },
     "metadata": {},
     "output_type": "display_data"
    }
   ],
   "source": [
    "file1 = \"noisy_data_1_50mV.npy\"\n",
    "plotPower(file1)\n"
   ]
  },
  {
   "cell_type": "code",
   "execution_count": null,
   "metadata": {
    "collapsed": false
   },
   "outputs": [],
   "source": []
  },
  {
   "cell_type": "code",
   "execution_count": 39,
   "metadata": {
    "collapsed": false
   },
   "outputs": [
    {
     "data": {
      "text/plain": [
       "1.6406020865734643"
      ]
     },
     "execution_count": 39,
     "metadata": {},
     "output_type": "execute_result"
    }
   ],
   "source": [
    "ugradio.timing.lst()"
   ]
  },
  {
   "cell_type": "code",
   "execution_count": null,
   "metadata": {
    "collapsed": true
   },
   "outputs": [],
   "source": []
  }
 ],
 "metadata": {
  "kernelspec": {
   "display_name": "Python 2",
   "language": "python",
   "name": "python2"
  },
  "language_info": {
   "codemirror_mode": {
    "name": "ipython",
    "version": 2
   },
   "file_extension": ".py",
   "mimetype": "text/x-python",
   "name": "python",
   "nbconvert_exporter": "python",
   "pygments_lexer": "ipython2",
   "version": "2.7.6"
  }
 },
 "nbformat": 4,
 "nbformat_minor": 1
}
