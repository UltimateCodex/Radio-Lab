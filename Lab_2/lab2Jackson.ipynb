{
 "cells": [
  {
   "cell_type": "code",
   "execution_count": 69,
   "metadata": {
    "collapsed": false
   },
   "outputs": [],
   "source": [
    "import ugradio\n",
    "import numpy as np\n",
    "import matplotlib.pylab as pl\n",
    "%matplotlib inline\n",
    "\n",
    "def scaleToReal(analog_values, volt_range=[-1, 1]):\n",
    "    type_info = np.iinfo(np.int16)\n",
    "\n",
    "    x1 = volt_range[0]\n",
    "    x2 = volt_range[1]\n",
    "\n",
    "    a1 = type_info.min\n",
    "    a2 = type_info.max\n",
    "\n",
    "    real_values = []\n",
    "    real2_values = []\n",
    "    for i in analog_values:\n",
    "        real_values.append(float(x2 - x1) * float(i - a1) / float(a2 - a1) + x1)\n",
    "    return np.asarray(real_values)\n",
    "\n",
    "def plotPower(filename, xlabel=\"Frequency (MHz)\", ylabel=\"Power (V$\\cdot$s)\", N=1, max_volt=.1):\n",
    "    v_samp = 62.5/N\n",
    "    arr = np.load(filename)\n",
    "    print arr\n",
    "    #arr = scaleToReal(arr, [-.1, .1])\n",
    "    dual_real = arr[len(arr)/2:]\n",
    "    dual_imag = arr[:len(arr)/2]\n",
    "    complex_arr = dual_real + np.multiply(1j, dual_imag)\n",
    "    FT = np.fft.fft(complex_arr)\n",
    "    freqs = np.fft.fftfreq(len(FT), 1/v_samp)\n",
    "    power = np.abs(FT)**2\n",
    "    #freqs, FT = ugradio.dft.dft(complex_arr[:4096], vsamp=4)\n",
    "    #power = np.abs(FT)**2\n",
    "    pl.plot(freqs, power)\n",
    "    pl.xlabel(xlabel, fontsize=14)\n",
    "    pl.ylabel(ylabel, fontsize=14)\n",
    "    pl.xlim(-2, 2)"
   ]
  },
  {
   "cell_type": "code",
   "execution_count": 64,
   "metadata": {
    "collapsed": false
   },
   "outputs": [
    {
     "data": {
      "text/plain": [
       "(array([  2.00000000e+00,   6.00000000e+00,   1.00000000e+01,\n",
       "          4.60000000e+01,   1.25000000e+02,   2.50000000e+02,\n",
       "          8.26000000e+02,   2.52900000e+03,   1.12790000e+04,\n",
       "          2.32220000e+04,   4.80280000e+04,   9.03350000e+04,\n",
       "          1.47062000e+05,   2.84863000e+05,   2.50466000e+05,\n",
       "          2.43110000e+05,   3.65804000e+05,   6.85990000e+04,\n",
       "          3.58110000e+04,   1.68050000e+04,   6.98000000e+03,\n",
       "          2.92300000e+03,   5.93000000e+02,   2.03000000e+02,\n",
       "          6.40000000e+01,   3.50000000e+01,   1.90000000e+01,\n",
       "          3.00000000e+00,   1.00000000e+00,   0.00000000e+00,\n",
       "          0.00000000e+00,   1.00000000e+00]),\n",
       " array([-3584., -3312., -3040., -2768., -2496., -2224., -1952., -1680.,\n",
       "        -1408., -1136.,  -864.,  -592.,  -320.,   -48.,   224.,   496.,\n",
       "          768.,  1040.,  1312.,  1584.,  1856.,  2128.,  2400.,  2672.,\n",
       "         2944.,  3216.,  3488.,  3760.,  4032.,  4304.,  4576.,  4848.,\n",
       "         5120.]),\n",
       " <a list of 32 Patch objects>)"
      ]
     },
     "execution_count": 64,
     "metadata": {},
     "output_type": "execute_result"
    },
    {
     "data": {
      "image/png": "[encoded data removed]",
      "text/plain": [
       "<matplotlib.figure.Figure at 0x7ff4e477e410>"
      ]
     },
     "metadata": {},
     "output_type": "display_data"
    }
   ],
   "source": [
    "\n",
    "filename2 = \"50_block_50mV.npy\"\n",
    "arr = np.load(filename2)\n",
    "pl.hist(arr, bins = 64., color = \"green\", normed=False)\n"
   ]
  },
  {
   "cell_type": "code",
   "execution_count": 70,
   "metadata": {
    "collapsed": false
   },
   "outputs": [
    {
     "name": "stdout",
     "output_type": "stream",
     "text": [
      "[-1792  -768 -1024 ...,   768     0     0]\n"
     ]
    },
    {
     "data": {
      "image/png": "[encoded data removed]",
      "text/plain": [
       "<matplotlib.figure.Figure at 0x7ff4eb9a6310>"
      ]
     },
     "metadata": {},
     "output_type": "display_data"
    }
   ],
   "source": [
    "file1 = \"usb_1421MHz_50mV_30dBm.npy\"\n",
    "plotPower(file1)\n"
   ]
  },
  {
   "cell_type": "code",
   "execution_count": null,
   "metadata": {
    "collapsed": false
   },
   "outputs": [],
   "source": []
  },
  {
   "cell_type": "code",
   "execution_count": 39,
   "metadata": {
    "collapsed": false
   },
   "outputs": [
    {
     "data": {
      "text/plain": [
       "1.6406020865734643"
      ]
     },
     "execution_count": 39,
     "metadata": {},
     "output_type": "execute_result"
    }
   ],
   "source": [
    "ugradio.timing.lst()"
   ]
  },
  {
   "cell_type": "code",
   "execution_count": null,
   "metadata": {
    "collapsed": true
   },
   "outputs": [],
   "source": []
  }
 ],
 "metadata": {
  "kernelspec": {
   "display_name": "Python 2",
   "language": "python",
   "name": "python2"
  },
  "language_info": {
   "codemirror_mode": {
    "name": "ipython",
    "version": 2
   },
   "file_extension": ".py",
   "mimetype": "text/x-python",
   "name": "python",
   "nbconvert_exporter": "python",
   "pygments_lexer": "ipython2",
   "version": "2.7.6"
  }
 },
 "nbformat": 4,
 "nbformat_minor": 1
}
